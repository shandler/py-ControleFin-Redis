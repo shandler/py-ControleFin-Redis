{
  "nbformat": 4,
  "nbformat_minor": 0,
  "metadata": {
    "colab": {
      "provenance": []
    },
    "kernelspec": {
      "name": "python3",
      "display_name": "Python 3"
    },
    "language_info": {
      "name": "python"
    }
  },
  "cells": [
    {
      "cell_type": "code",
      "execution_count": null,
      "metadata": {
        "id": "aSuq51oMDDi1"
      },
      "outputs": [],
      "source": [
        "!pip install redis\n"
      ]
    },
    {
      "cell_type": "code",
      "source": [
        "import redis\n",
        "import json"
      ],
      "metadata": {
        "id": "LCn9-vjHDT_x"
      },
      "execution_count": 6,
      "outputs": []
    },
    {
      "cell_type": "code",
      "source": [
        "# Criar conexão com o REDIS\n",
        "r = redis.Redis(\n",
        "  host='redis-12148.c308.sa-east-1-1.ec2.cloud.redislabs.com',\n",
        "  port=12148,\n",
        "  password='EgQ7nsyeQsa139Yi5L5r89lRu72CJb9z')"
      ],
      "metadata": {
        "id": "cZUPXLq4DYcI"
      },
      "execution_count": 7,
      "outputs": []
    },
    {
      "cell_type": "code",
      "source": [
        "# Agora você pode realizar operações como de costume\n",
        "r.set('nome', 'Shandler Menezes Gama')\n",
        "valor = r.get('nome')\n",
        "print(valor.decode('utf-8'))  # Convertendo bytes para string"
      ],
      "metadata": {
        "id": "6AfFTvJUD3dR"
      },
      "execution_count": null,
      "outputs": []
    },
    {
      "cell_type": "code",
      "source": [
        "# Dados de exemplo\n",
        "period = \"2022_Maio\"\n",
        "comment = \"Some comment - 2\"\n",
        "incomes = {'Salary': 1600, 'Blog': 60, 'Other Income': 60}\n",
        "expenses = {'Rent': 6600, 'Utilities': 2600, 'Groceries': 3600, 'Car': 1600, 'Other Expenses': 560, 'Saving': 160}\n",
        "# Converter os dicionários de incomes e expenses em strings JSON\n",
        "incomes_json = json.dumps(incomes)\n",
        "expenses_json = json.dumps(expenses)"
      ],
      "metadata": {
        "id": "hnRerYYFhDDx"
      },
      "execution_count": null,
      "outputs": []
    },
    {
      "cell_type": "code",
      "source": [
        "# Gravar dados\n",
        "r.hset(period, \"incomes\", incomes_json)\n",
        "r.hset(period, \"expenses\", expenses_json)\n",
        "r.hset(period, \"comment\", comment)"
      ],
      "metadata": {
        "id": "ZiDmJsj1hOtC"
      },
      "execution_count": null,
      "outputs": []
    },
    {
      "cell_type": "code",
      "source": [
        "# Recuperar os dados do período do Redis\n",
        "comment = r.hget(period, \"comment\")\n",
        "incomes_json = r.hget(period, \"incomes\")\n",
        "expenses_json = r.hget(period, \"expenses\")"
      ],
      "metadata": {
        "id": "ObUHhsgkhmAT"
      },
      "execution_count": 8,
      "outputs": []
    },
    {
      "cell_type": "code",
      "source": [
        "# Verificar se os dados foram encontrados\n",
        "if comment is not None and incomes_json is not None and expenses_json is not None:\n",
        "    # Converter os valores de JSON de volta para dicionários Python\n",
        "    comment = comment.decode('utf-8')\n",
        "    incomes = json.loads(incomes_json.decode('utf-8'))\n",
        "    expenses = json.loads(expenses_json.decode('utf-8'))\n",
        "\n",
        "    # Exibir os dados recuperados\n",
        "    print(\"Comment:\", comment)\n",
        "    print(\"Incomes:\", incomes)\n",
        "    print(\"Expenses:\", expenses)\n",
        "else:\n",
        "    print(\"Nenhum dado encontrado para o período\", period)"
      ],
      "metadata": {
        "colab": {
          "base_uri": "https://localhost:8080/"
        },
        "id": "nycwbXOsi9xT",
        "outputId": "199f6515-c691-420c-f020-6314a968f500"
      },
      "execution_count": 9,
      "outputs": [
        {
          "output_type": "stream",
          "name": "stdout",
          "text": [
            "Comment: janeiro\n",
            "Incomes: {'Salary': 10, 'Blog': 10, 'Other Income': 10}\n",
            "Expenses: {'Rent': 10, 'Utilities': 10, 'Groceries': 10, 'Car': 10, 'Other Expenses': 10, 'Saving': 10}\n"
          ]
        }
      ]
    },
    {
      "cell_type": "code",
      "source": [
        "# Funções para pegar um periodo especifico\n",
        "\n",
        "# Gerar o retorno esperado\n",
        "def generate_return(period, incomes, expenses, comment):\n",
        "    \"\"\"Gera o retorno no formato desejado\"\"\"\n",
        "    return [{\n",
        "        \"key\": period,\n",
        "        \"incomes\": incomes,\n",
        "        \"expenses\": expenses,\n",
        "        \"comment\": comment\n",
        "    }]\n",
        "\n",
        "# Busca os valores no banco REDIS\n",
        "def get_period(period):\n",
        "    # Recuperar os dados do período do Redis\n",
        "    comment = r.hget(period, \"comment\")\n",
        "    incomes_json = r.hget(period, \"incomes\")\n",
        "    expenses_json = r.hget(period, \"expenses\")\n",
        "    # Verificar se os dados foram encontrados\n",
        "    if comment is not None and incomes_json is not None and expenses_json is not None:\n",
        "        # Converter os valores de JSON de volta para dicionários Python\n",
        "        comment = comment.decode('utf-8')\n",
        "        incomes = json.loads(incomes_json.decode('utf-8'))\n",
        "        expenses = json.loads(expenses_json.decode('utf-8'))\n",
        "    else:\n",
        "        print(\"Nenhum dado encontrado para o período\", period)\n",
        "    # Gerar o retorno no formato desejado\n",
        "    result = generate_return(period, incomes, expenses, comment)\n",
        "    # Converter o retorno em uma string JSON\n",
        "    result_json = json.dumps(result)\n",
        "    return result_json"
      ],
      "metadata": {
        "id": "Ai3MlaW-kRM0"
      },
      "execution_count": 15,
      "outputs": []
    },
    {
      "cell_type": "code",
      "source": [
        "# Retorna todos os periodos do Bando REDIS\n",
        "def fetch_all_periods():\n",
        "    \"\"\"Recupera todos os períodos do Redis\"\"\"\n",
        "    periods = {}\n",
        "    keys = r.keys('*')\n",
        "    for key in keys:\n",
        "        data = r.hgetall(key)\n",
        "        period_data = {}\n",
        "        for field, value in data.items():\n",
        "            field = field.decode('utf-8')\n",
        "            if field == 'incomes' or field == 'expenses':\n",
        "                period_data[field] = json.loads(value.decode('utf-8'))\n",
        "            else:\n",
        "                period_data[field] = value.decode('utf-8')\n",
        "        periods[key.decode('utf-8')] = period_data\n",
        "    return periods\n",
        "\n",
        "# Exemplo de uso\n",
        "all_periods = fetch_all_periods()\n",
        "for period, data in all_periods.items():\n",
        "    print(\"Period:\", period)\n",
        "    print(\"Data:\", data)\n",
        "\n",
        "\"\"\" Exemplo do retorno\n",
        "\n",
        "Period: 2024_April\n",
        "Data: {'expenses': {'Rent': 600, 'Utilities': 200, 'Groceries': 300, 'Car': 100, 'Other Expenses': 50, 'Saving': 10}, 'comment': 'Some comment 3', 'incomes': {'Salary': 1500, 'Blog': 50, 'Other Income': 10}}\n",
        "\n",
        "\"\"\""
      ],
      "metadata": {
        "id": "2Hibt96Emfqq"
      },
      "execution_count": null,
      "outputs": []
    },
    {
      "cell_type": "code",
      "source": [
        "def fetch_all_periods():\n",
        "    \"\"\"Recupera todos os períodos do Redis\"\"\"\n",
        "    all_periods = []\n",
        "    keys = r.keys('*')\n",
        "    for key in keys:\n",
        "        data = r.hgetall(key)\n",
        "        period_data = {}\n",
        "        period_data['key'] = key.decode('utf-8')  # Adicionando a chave 'key' ao dicionário\n",
        "        for field, value in data.items():\n",
        "            field = field.decode('utf-8')\n",
        "            if field == 'incomes' or field == 'expenses':\n",
        "                period_data[field] = json.loads(value.decode('utf-8'))\n",
        "            else:\n",
        "                period_data[field] = value.decode('utf-8')\n",
        "\n",
        "        all_periods.append(period_data)\n",
        "    return all_periods\n",
        "\n",
        "# Exemplo de uso\n",
        "all_periods = fetch_all_periods()\n",
        "print(json.dumps(all_periods, indent=2))\n",
        "\n",
        "\"\"\"Exeplo do Retorno\n",
        "[\n",
        "  {\n",
        "    \"key\": \"2024_April\",\n",
        "    \"expenses\": {\n",
        "      \"Rent\": 600,\n",
        "      \"Utilities\": 200,\n",
        "      \"Groceries\": 300,\n",
        "      \"Car\": 100,\n",
        "      \"Other Expenses\": 50,\n",
        "      \"Saving\": 10\n",
        "    },\n",
        "    .\n",
        "    .\n",
        "    .\n",
        "]\n",
        "\"\"\""
      ],
      "metadata": {
        "id": "9xb3BuT6scaS"
      },
      "execution_count": null,
      "outputs": []
    },
    {
      "cell_type": "code",
      "source": [
        "import json\n",
        "\n",
        "#period = \"2022_April\"\n",
        "#period = \"2022_Maio\"\n",
        "#period = \"2024_April\"\n",
        "period = \"2024_January\"\n",
        "\n",
        "# Suponha que data seja uma string que representa um dicionário JSON\n",
        "data = '[{\"key\": \"2022_Maio\", \"incomes\": {\"Salary\": 1600, \"Blog\": 60, \"Other Income\": 60}, \"expenses\": {\"Rent\": 6600, \"Utilities\": 2600, \"Groceries\": 3600, \"Car\": 1600, \"Other Expenses\": 560, \"Saving\": 160}, \"comment\": \"Some comment - 2\"}]'\n",
        "\n",
        "# Converta a string JSON em um dicionário Python\n",
        "parsed_data = json.loads(get_period(period))\n",
        "\n",
        "# Agora parsed_data é uma lista de dicionários\n",
        "for period_data in parsed_data:\n",
        "    key = period_data[\"key\"]\n",
        "    incomes = period_data[\"incomes\"]\n",
        "    expenses = period_data[\"expenses\"]\n",
        "    comment = period_data[\"comment\"]\n",
        "\n",
        "    print(\"Key:\", key)\n",
        "    print(\"Incomes:\", incomes)\n",
        "    print(\"Expenses:\", expenses)\n",
        "    print(\"Comment:\", comment)"
      ],
      "metadata": {
        "colab": {
          "base_uri": "https://localhost:8080/"
        },
        "id": "uQ_kC5SUQwE_",
        "outputId": "5e9afd9b-9aaa-4eeb-e069-eb0fdc1679eb"
      },
      "execution_count": 16,
      "outputs": [
        {
          "output_type": "stream",
          "name": "stdout",
          "text": [
            "Key: 2024_January\n",
            "Incomes: {'Salary': 10, 'Blog': 10, 'Other Income': 10}\n",
            "Expenses: {'Rent': 10, 'Utilities': 10, 'Groceries': 10, 'Car': 10, 'Other Expenses': 10, 'Saving': 10}\n",
            "Comment: janeiro\n"
          ]
        }
      ]
    }
  ]
}