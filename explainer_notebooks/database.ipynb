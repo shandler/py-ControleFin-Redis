{
 "cells": [
  {
   "cell_type": "code",
   "execution_count": 7,
   "id": "30413aa4",
   "metadata": {},
   "outputs": [],
   "source": [
    "#from deta import Deta  # pip install deta\n",
    "import redis\n",
    "import json"
   ]
  },
  {
   "cell_type": "code",
   "execution_count": 3,
   "id": "bdace43d",
   "metadata": {},
   "outputs": [],
   "source": [
    "# DETA_KEY = \"<YOUR DETA KEY>\"\n",
    "\n",
    "# # Initialize with a project key\n",
    "# deta = Deta(DETA_KEY)\n",
    "\n",
    "# # This is how to create/connect a database\n",
    "# db = deta.Base(\"monthly_reports\")\n",
    "\n",
    "db = redis.Redis(\n",
    "  host='redis-12148.c308.sa-east-1-1.ec2.cloud.redislabs.com',\n",
    "  port=12148,\n",
    "  password='EgQ7nsyeQsa139Yi5L5r89lRu72CJb9z')"
   ]
  },
  {
   "cell_type": "code",
   "execution_count": 10,
   "id": "d65bd157",
   "metadata": {},
   "outputs": [],
   "source": [
    "# def insert_period(period, incomes, expenses, comment):\n",
    "#     \"\"\"Returns the user on a successful user creation, otherwise raises and error\"\"\"\n",
    "#     return db.put({\"key\": period, \"incomes\": incomes, \"expenses\": expenses, \"comment\": comment})\n",
    "\n",
    "def insert_period(period, incomes, expenses, comment):\n",
    "    # Converter os dicionários de incomes e expenses em strings JSON\n",
    "    incomes_json = json.dumps(incomes)\n",
    "    expenses_json = json.dumps(expenses)\n",
    "    # Insere um período no Redis\n",
    "    db.hset(period, \"incomes\", incomes_json)\n",
    "    db.hset(period, \"expenses\", expenses_json)\n",
    "    db.hset(period, \"comment\", comment)\n",
    "    return \"Relatório criado com sucesso para o período \" + period\n",
    "\n",
    "\n",
    "# def fetch_all_periods():\n",
    "#     \"\"\"Returns a dict of all periods\"\"\"\n",
    "#     res = db.fetch()\n",
    "#     return res.items\n",
    "\n",
    "def fetch_all_periods():\n",
    "    \"\"\"Recupera todos os períodos do Redis\"\"\"\n",
    "    all_periods = []\n",
    "    keys = db.keys('*')\n",
    "    for key in keys:\n",
    "        data = db.hgetall(key)\n",
    "        period_data = {}\n",
    "        period_data['key'] = key.decode('utf-8')  # Adicionando a chave 'key' ao dicionário\n",
    "        for field, value in data.items():\n",
    "            field = field.decode('utf-8')\n",
    "            if field == 'incomes' or field == 'expenses':\n",
    "                period_data[field] = json.loads(value.decode('utf-8'))\n",
    "            else:\n",
    "                period_data[field] = value.decode('utf-8')\n",
    "        all_periods.append(period_data)\n",
    "    return all_periods\n",
    "\n",
    "\n",
    "# def get_period(period):\n",
    "#     \"\"\"If not found, the function will return None\"\"\"\n",
    "#     return db.get(period)\n",
    "\n",
    "\n",
    "def generate_return(period, incomes, expenses, comment):\n",
    "    \"\"\"Gera o retorno no formato desejado\"\"\"\n",
    "    return {\n",
    "        \"key\": period,\n",
    "        \"incomes\": incomes,\n",
    "        \"expenses\": expenses,\n",
    "        \"comment\": comment\n",
    "    }\n",
    "\n",
    "def get_period(period):\n",
    "    # Recuperar os dados do período do Redis\n",
    "    comment = db.hget(period, \"comment\")\n",
    "    incomes_json = db.hget(period, \"incomes\")\n",
    "    expenses_json = db.hget(period, \"expenses\")\n",
    "\n",
    "    # Verificar se os dados foram encontrados\n",
    "    if comment is not None and incomes_json is not None and expenses_json is not None:\n",
    "        # Converter os valores de JSON de volta para dicionários Python\n",
    "        comment = comment.decode('utf-8')\n",
    "        incomes = json.loads(incomes_json.decode('utf-8'))\n",
    "        expenses = json.loads(expenses_json.decode('utf-8'))\n",
    "\n",
    "        # Exibir os dados recuperados\n",
    "        # print(\"Comment:\", comment)\n",
    "        # print(\"Incomes:\", incomes)\n",
    "        # print(\"Expenses:\", expenses)\n",
    "    else:\n",
    "        print(\"Nenhum dado encontrado para o período\", period)\n",
    "\n",
    "    # Gerar o retorno no formato desejado\n",
    "    result = generate_return(period, incomes, expenses, comment)\n",
    "\n",
    "    # Converter o retorno em uma string JSON\n",
    "    result_json = json.dumps(result)\n",
    "\n",
    "    # print(result_json)\n",
    "\n",
    "    return result_json"
   ]
  },
  {
   "cell_type": "code",
   "execution_count": 5,
   "id": "b532ec9b",
   "metadata": {},
   "outputs": [],
   "source": [
    "# Example Data\n",
    "period = \"2024_April\"\n",
    "comment = \"Some comment 3\"\n",
    "incomes = {'Salary': 1500, 'Blog': 50, 'Other Income': 10}\n",
    "expenses = {'Rent': 600, 'Utilities': 200, 'Groceries': 300,\n",
    "            'Car': 100, 'Other Expenses': 50, 'Saving': 10}"
   ]
  },
  {
   "cell_type": "code",
   "execution_count": 8,
   "id": "2a890947",
   "metadata": {},
   "outputs": [
    {
     "data": {
      "text/plain": [
       "'Relatório criado com sucesso para o período 2024_April'"
      ]
     },
     "execution_count": 8,
     "metadata": {},
     "output_type": "execute_result"
    }
   ],
   "source": [
    "insert_period(period, incomes, expenses, comment)"
   ]
  },
  {
   "cell_type": "code",
   "execution_count": 11,
   "id": "7bc0db91",
   "metadata": {},
   "outputs": [
    {
     "data": {
      "text/plain": [
       "[{'key': '2024_April',\n",
       "  'expenses': {'Rent': 600,\n",
       "   'Utilities': 200,\n",
       "   'Groceries': 300,\n",
       "   'Car': 100,\n",
       "   'Other Expenses': 50,\n",
       "   'Saving': 10},\n",
       "  'comment': 'Some comment 3',\n",
       "  'incomes': {'Salary': 1500, 'Blog': 50, 'Other Income': 10}},\n",
       " {'key': '2022_Maio',\n",
       "  'expenses': {'Rent': 6600,\n",
       "   'Utilities': 2600,\n",
       "   'Groceries': 3600,\n",
       "   'Car': 1600,\n",
       "   'Other Expenses': 560,\n",
       "   'Saving': 160},\n",
       "  'comment': 'Some comment - 2',\n",
       "  'incomes': {'Salary': 1600, 'Blog': 60, 'Other Income': 60}},\n",
       " {'key': '2022_April',\n",
       "  'expenses': {'Rent': 600,\n",
       "   'Utilities': 200,\n",
       "   'Groceries': 300,\n",
       "   'Car': 100,\n",
       "   'Other Expenses': 50,\n",
       "   'Saving': 10},\n",
       "  'comment': 'Some comment',\n",
       "  'incomes': {'Salary': 1500, 'Blog': 50, 'Other Income': 10}}]"
      ]
     },
     "execution_count": 11,
     "metadata": {},
     "output_type": "execute_result"
    }
   ],
   "source": [
    "fetch_all_periods()"
   ]
  },
  {
   "cell_type": "code",
   "execution_count": 13,
   "id": "6436a6cd",
   "metadata": {},
   "outputs": [
    {
     "data": {
      "text/plain": [
       "'{\"key\": \"2024_April\", \"incomes\": {\"Salary\": 1500, \"Blog\": 50, \"Other Income\": 10}, \"expenses\": {\"Rent\": 600, \"Utilities\": 200, \"Groceries\": 300, \"Car\": 100, \"Other Expenses\": 50, \"Saving\": 10}, \"comment\": \"Some comment 3\"}'"
      ]
     },
     "execution_count": 13,
     "metadata": {},
     "output_type": "execute_result"
    }
   ],
   "source": [
    "get_period(\"2024_April\")"
   ]
  }
 ],
 "metadata": {
  "kernelspec": {
   "display_name": "Python 3",
   "language": "python",
   "name": "python3"
  },
  "language_info": {
   "codemirror_mode": {
    "name": "ipython",
    "version": 3
   },
   "file_extension": ".py",
   "mimetype": "text/x-python",
   "name": "python",
   "nbconvert_exporter": "python",
   "pygments_lexer": "ipython3",
   "version": "3.11.3"
  }
 },
 "nbformat": 4,
 "nbformat_minor": 5
}
